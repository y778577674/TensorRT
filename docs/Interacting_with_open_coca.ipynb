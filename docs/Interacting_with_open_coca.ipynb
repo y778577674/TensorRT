{
  "nbformat": 4,
  "nbformat_minor": 0,
  "metadata": {
    "colab": {
      "provenance": []
    },
    "kernelspec": {
      "name": "python3",
      "display_name": "Python 3"
    },
    "language_info": {
      "name": "python"
    },
    "accelerator": "GPU",
    "gpuClass": "standard"
  },
  "cells": [
    {
      "cell_type": "code",
      "source": [
        "!pip install open_clip_torch transformers"
      ],
      "metadata": {
        "id": "JvaEkx8Cyvhg"
      },
      "execution_count": null,
      "outputs": []
    },
    {
      "cell_type": "code",
      "execution_count": null,
      "metadata": {
        "id": "vE4lFFkKyotX"
      },
      "outputs": [],
      "source": [
        "import open_clip\n",
        "import torch\n",
        "\n",
        "model, _, transform = open_clip.create_model_and_transforms(\n",
        "  model_name=\"coca_ViT-L-14\",\n",
        "  pretrained=\"mscoco_finetuned_laion2B-s13B-b90k\"\n",
        ")"
      ]
    },
    {
      "cell_type": "code",
      "source": [
        "!wget https://i.imgur.com/8H7XCH0.jpg -O cat.jpg"
      ],
      "metadata": {
        "id": "oOaE1AmDyth_"
      },
      "execution_count": null,
      "outputs": []
    },
    {
      "cell_type": "code",
      "source": [
        "from IPython.display import Image\n",
        "Image('cat.jpg')"
      ],
      "metadata": {
        "id": "Y9Q6bhVA2L01"
      },
      "execution_count": null,
      "outputs": []
    },
    {
      "cell_type": "code",
      "source": [
        "from PIL import Image\n",
        "im = Image.open(\"cat.jpg\").convert(\"RGB\")\n",
        "im = transform(im).unsqueeze(0)\n",
        "\n",
        "with torch.no_grad(), torch.cuda.amp.autocast():\n",
        "  generated = model.generate(im)\n",
        "\n",
        "print(open_clip.decode(generated[0]).split(\"<end_of_text>\")[0].replace(\"<start_of_text>\", \"\"))"
      ],
      "metadata": {
        "id": "byZKXMGzyr5Y"
      },
      "execution_count": null,
      "outputs": []
    },
    {
      "cell_type": "code",
      "source": [],
      "metadata": {
        "id": "8qQAKME38DDu"
      },
      "execution_count": null,
      "outputs": []
    }
  ]
}